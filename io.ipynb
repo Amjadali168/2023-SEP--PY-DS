{
 "cells": [
  {
   "cell_type": "markdown",
   "metadata": {},
   "source": [
    "- print() -> Output\n",
    "- input() -> input"
   ]
  },
  {
   "cell_type": "code",
   "execution_count": 3,
   "metadata": {},
   "outputs": [],
   "source": [
    "name = \"Zaid Kamil\"\n",
    "city = \"Lucknow\""
   ]
  },
  {
   "cell_type": "code",
   "execution_count": 4,
   "metadata": {},
   "outputs": [
    {
     "name": "stdout",
     "output_type": "stream",
     "text": [
      "Information about me\n",
      "Zaid Kamil\n",
      "Lucknow\n"
     ]
    }
   ],
   "source": [
    "\n",
    "print(\"Information about me\")\n",
    "print(name)\n",
    "print(city)"
   ]
  },
  {
   "cell_type": "code",
   "execution_count": 5,
   "metadata": {},
   "outputs": [
    {
     "name": "stdout",
     "output_type": "stream",
     "text": [
      "Information about me Zaid Kamil Lucknow\n"
     ]
    }
   ],
   "source": [
    "print(\"Information about me\", name, city)"
   ]
  },
  {
   "cell_type": "code",
   "execution_count": 6,
   "metadata": {},
   "outputs": [
    {
     "name": "stdout",
     "output_type": "stream",
     "text": [
      "I am Zaid Kamil and i live in Lucknow\n"
     ]
    }
   ],
   "source": [
    "print('I am',name, 'and i live in', city)"
   ]
  },
  {
   "cell_type": "markdown",
   "metadata": {},
   "source": [
    "# formatted string\n",
    "these are special strings in python ,where we prepend f before the opening quote,making the string an f-string. we can then embed python expression directly inside the string. the expressions are replaced with their values."
   ]
  },
  {
   "cell_type": "code",
   "execution_count": 7,
   "metadata": {},
   "outputs": [
    {
     "name": "stdout",
     "output_type": "stream",
     "text": [
      "I am Zaid Kamil and i live in Lucknow\n"
     ]
    }
   ],
   "source": [
    "print(f\"I am {name} and i live in {city}\")"
   ]
  },
  {
   "cell_type": "code",
   "execution_count": 11,
   "metadata": {},
   "outputs": [],
   "source": [
    "n1 = \"Amjad\"\n",
    "c1 = 'Lucknow'\n",
    "n2, c2 = \"Aman\", 'Lucknow'\n",
    "n3, c3 = 'Siya', 'Lucknow'\n",
    "n4, c4 = 'bhupendra', 'Lucknow'"
   ]
  },
  {
   "cell_type": "code",
   "execution_count": 12,
   "metadata": {},
   "outputs": [
    {
     "name": "stdout",
     "output_type": "stream",
     "text": [
      "Amjad           Lucknow\n",
      "Aman            Lucknow\n",
      "Siya            Lucknow\n",
      "bhupendra       Lucknow\n"
     ]
    }
   ],
   "source": [
    "print(f'{n1:15} {c1}')\n",
    "print(f'{n2:15} {c2}')\n",
    "print(f'{n3:15} {c3}')\n",
    "print(f'{n4:15} {c4}')\n"
   ]
  },
  {
   "cell_type": "markdown",
   "metadata": {},
   "source": [
    "\n",
    "- for right align we can use > as print(f'{n1:>15} {c1})\n",
    "- for center align we can use ^\n",
    "- by default it is left align"
   ]
  },
  {
   "cell_type": "code",
   "execution_count": 14,
   "metadata": {},
   "outputs": [
    {
     "name": "stdout",
     "output_type": "stream",
     "text": [
      "1.           Amjad Lucknow\n",
      "2.            Aman Lucknow\n",
      "3.            Siya Lucknow\n",
      "4.       bhupendra Lucknow\n"
     ]
    }
   ],
   "source": [
    "print(f'1. {n1:>15} {c1}')\n",
    "print(f'2. {n2:>15} {c2}')\n",
    "print(f'3. {n3:>15} {c3}')\n",
    "print(f'4. {n4:>15} {c4}')"
   ]
  },
  {
   "cell_type": "code",
   "execution_count": 15,
   "metadata": {},
   "outputs": [
    {
     "name": "stdout",
     "output_type": "stream",
     "text": [
      "Amjad Aman Siya bhupendra\n"
     ]
    }
   ],
   "source": [
    "print(n1,n2,n3,n4)"
   ]
  },
  {
   "cell_type": "code",
   "execution_count": 16,
   "metadata": {},
   "outputs": [
    {
     "name": "stdout",
     "output_type": "stream",
     "text": [
      "Amjad\tAman\tSiya\tbhupendra\n"
     ]
    }
   ],
   "source": [
    "print(n1,n2,n3,n4, sep='\\t')\n"
   ]
  },
  {
   "cell_type": "code",
   "execution_count": 17,
   "metadata": {},
   "outputs": [
    {
     "name": "stdout",
     "output_type": "stream",
     "text": [
      "Amjad\n",
      "Aman\n",
      "Siya\n",
      "bhupendra\n"
     ]
    }
   ],
   "source": [
    "print(n1,n2,n3,n4, sep='\\n')\n"
   ]
  },
  {
   "cell_type": "code",
   "execution_count": 18,
   "metadata": {},
   "outputs": [
    {
     "name": "stdout",
     "output_type": "stream",
     "text": [
      "Amjad, Aman, Siya, bhupendra\n"
     ]
    }
   ],
   "source": [
    "print(n1,n2,n3,n4, sep=', ')\n"
   ]
  },
  {
   "cell_type": "code",
   "execution_count": null,
   "metadata": {},
   "outputs": [],
   "source": []
  }
 ],
 "metadata": {
  "kernelspec": {
   "display_name": "Python 3.10.7 64-bit",
   "language": "python",
   "name": "python3"
  },
  "language_info": {
   "codemirror_mode": {
    "name": "ipython",
    "version": 3
   },
   "file_extension": ".py",
   "mimetype": "text/x-python",
   "name": "python",
   "nbconvert_exporter": "python",
   "pygments_lexer": "ipython3",
   "version": "3.10.7"
  },
  "orig_nbformat": 4,
  "vscode": {
   "interpreter": {
    "hash": "aee8b7b246df8f9039afb4144a1f6fd8d2ca17a180786b69acc140d282b71a49"
   }
  }
 },
 "nbformat": 4,
 "nbformat_minor": 2
}
