{
 "cells": [
  {
   "cell_type": "markdown",
   "metadata": {},
   "source": [
    "what to understand\n",
    "- class\n",
    "- object\n",
    "- instance method\n",
    "- constructor(__init__)\n",
    "- data class\n",
    "- inheritance\n",
    "\n",
    "      - overriding method\n",
    "      \n",
    "      - multiple inheritance\n",
    "- operator overloading"
   ]
  },
  {
   "cell_type": "code",
   "execution_count": 1,
   "metadata": {},
   "outputs": [],
   "source": [
    "class One:\n",
    "    pass"
   ]
  },
  {
   "cell_type": "code",
   "execution_count": 1,
   "metadata": {},
   "outputs": [],
   "source": [
    "class Student:\n",
    "    rollno = 0\n",
    "    klass = 0\n",
    "    name = \"\"\n",
    "    def display(self):\n",
    "        print(\"i am a student\")\n",
    "\n"
   ]
  },
  {
   "cell_type": "code",
   "execution_count": 2,
   "metadata": {},
   "outputs": [
    {
     "name": "stdout",
     "output_type": "stream",
     "text": [
      "i am a student\n"
     ]
    }
   ],
   "source": [
    "s1 = Student()\n",
    "s1.name = \"Raj\"\n",
    "s1.klass = 5\n",
    "s1.rollno = 1267\n",
    "s1.display()\n",
    "\n",
    "s2 = Student()\n",
    "s2.name = \"Raju\"\n",
    "s2.klass = 5\n",
    "s2.rollno = 1268\n"
   ]
  },
  {
   "cell_type": "code",
   "execution_count": 3,
   "metadata": {},
   "outputs": [],
   "source": [
    "# __method __ is called magic method (dunder method)\n",
    "class Bottle:\n",
    "    def __init__(self, material, content ,capacity):\n",
    "        self.material = material\n",
    "        self.content = content\n",
    "        self.capacity = capacity\n",
    "\n",
    "    def check(self):\n",
    "        print(f'{self.material} bottle with {self.capacity} ml of {self.content}')"
   ]
  },
  {
   "cell_type": "code",
   "execution_count": 4,
   "metadata": {},
   "outputs": [],
   "source": [
    "b1 = Bottle(\"plastic\",\"water\", 1000)\n",
    "b2 = Bottle(\"glass\",\"water\", 1000)\n",
    "b3 = Bottle(\"steel\",\"water\", 1000)\n",
    "b4 = Bottle(\"glass\",\"red wine\", 1000)\n",
    "b5 = Bottle(\"glass\",\"beer\", 1000)"
   ]
  },
  {
   "cell_type": "code",
   "execution_count": 5,
   "metadata": {},
   "outputs": [
    {
     "name": "stdout",
     "output_type": "stream",
     "text": [
      "plastic water 1000\n"
     ]
    }
   ],
   "source": [
    "print(b1.material, b1.content, b1.capacity)"
   ]
  },
  {
   "cell_type": "code",
   "execution_count": 6,
   "metadata": {},
   "outputs": [
    {
     "name": "stdout",
     "output_type": "stream",
     "text": [
      "plastic bottle with 1000 ml of water\n",
      "glass bottle with 1000 ml of water\n",
      "steel bottle with 1000 ml of water\n"
     ]
    }
   ],
   "source": [
    "b1.check()\n",
    "b2.check()\n",
    "b3.check()"
   ]
  },
  {
   "cell_type": "code",
   "execution_count": 7,
   "metadata": {},
   "outputs": [
    {
     "name": "stdout",
     "output_type": "stream",
     "text": [
      "glass bottle with 1000 ml of Malbec\n"
     ]
    }
   ],
   "source": [
    "b2.content = 'Malbec'\n",
    "b2.check()"
   ]
  },
  {
   "cell_type": "markdown",
   "metadata": {},
   "source": [
    "create a class calculator with following method\n",
    "- multiply\n",
    "- divide\n",
    "- exponent\n",
    "- add\n",
    "- subtract"
   ]
  },
  {
   "cell_type": "code",
   "execution_count": 8,
   "metadata": {},
   "outputs": [],
   "source": [
    "class Calculator:\n",
    "    def multiply(self,a, b):\n",
    "       return a*b\n",
    "    def divide(self,a, b):\n",
    "        return a/b\n",
    "    def exponent(self,a, b):\n",
    "        return a**b\n",
    "    def add(self,a, b):\n",
    "        return a+b\n",
    "    def subtract(self,a ,b):\n",
    "        return a-b\n"
   ]
  },
  {
   "cell_type": "code",
   "execution_count": 9,
   "metadata": {},
   "outputs": [
    {
     "name": "stdout",
     "output_type": "stream",
     "text": [
      "325\n",
      "46\n",
      "15\n"
     ]
    }
   ],
   "source": [
    "c = Calculator()\n",
    "print(c.multiply(13, 25))\n",
    "print(c.add(12, 34))\n",
    "print(c.subtract(20, 5))"
   ]
  },
  {
   "cell_type": "code",
   "execution_count": null,
   "metadata": {},
   "outputs": [],
   "source": []
  }
 ],
 "metadata": {
  "kernelspec": {
   "display_name": "Python 3.10.7 64-bit",
   "language": "python",
   "name": "python3"
  },
  "language_info": {
   "codemirror_mode": {
    "name": "ipython",
    "version": 3
   },
   "file_extension": ".py",
   "mimetype": "text/x-python",
   "name": "python",
   "nbconvert_exporter": "python",
   "pygments_lexer": "ipython3",
   "version": "3.10.7"
  },
  "orig_nbformat": 4,
  "vscode": {
   "interpreter": {
    "hash": "aee8b7b246df8f9039afb4144a1f6fd8d2ca17a180786b69acc140d282b71a49"
   }
  }
 },
 "nbformat": 4,
 "nbformat_minor": 2
}
